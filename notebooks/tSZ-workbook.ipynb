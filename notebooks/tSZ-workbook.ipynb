{
 "cells": [
  {
   "cell_type": "code",
   "execution_count": 4,
   "id": "8f0eb0e6",
   "metadata": {},
   "outputs": [
    {
     "name": "stdout",
     "output_type": "stream",
     "text": [
      "compton param: [1.58448961 2.64081601 3.87319682]\n",
      "[-1.59808936 -0.9536733   0.03767811]\n"
     ]
    }
   ],
   "source": [
    "import numpy as np\n",
    "\n",
    "h = 6.626070e-34 # J / sec\n",
    "t_cmb = 2.726 # Kelvin, Planck\n",
    "kb = 1.380649e-23 # J / K\n",
    "freqs = np.array([90., 150.]) * 1e9 # GHz\n",
    "\n",
    "def f_tsz(nu):\n",
    "    x = h * nu / t_cmb / kb\n",
    "    return (x / np.tanh(x/2)) - 4\n",
    "          \n",
    "print(f_tsz(freqs))\n",
    "\n",
    "# compy_dr4 = \n",
    "\n",
    "compy_path = \n"
   ]
  },
  {
   "cell_type": "code",
   "execution_count": null,
   "id": "4459cd55",
   "metadata": {},
   "outputs": [],
   "source": []
  }
 ],
 "metadata": {
  "kernelspec": {
   "display_name": "Python 3 (ipykernel)",
   "language": "python",
   "name": "python3"
  },
  "language_info": {
   "codemirror_mode": {
    "name": "ipython",
    "version": 3
   },
   "file_extension": ".py",
   "mimetype": "text/x-python",
   "name": "python",
   "nbconvert_exporter": "python",
   "pygments_lexer": "ipython3",
   "version": "3.9.0"
  }
 },
 "nbformat": 4,
 "nbformat_minor": 5
}
