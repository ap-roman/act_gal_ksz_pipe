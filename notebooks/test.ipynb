{
 "cells": [
  {
   "cell_type": "code",
   "execution_count": 16,
   "id": "5e90aa08",
   "metadata": {},
   "outputs": [
    {
     "name": "stdout",
     "output_type": "stream",
     "text": [
      "(3, 2, 2)\n"
     ]
    }
   ],
   "source": [
    "import numpy as np\n",
    "\n",
    "ar1 = np.array([[1,2],\n",
    "                [3,4]])\n",
    "\n",
    "ar2 = np.array([[5,6],\n",
    "                [7,8]])\n",
    "\n",
    "res12 = np.array([[ 5 + 14,  6 + 16],\n",
    "                [15 + 28,  18 + 32]])\n",
    "\n",
    "res21 = np.array([[5 + 18, 10 + 24],\n",
    "                  [7 + 24, 14 + 32]])\n",
    "\n",
    "t_dot = np.tensordot(ar1, ar2, axes=((1,),(0,)))\n",
    "matmul = np.matmul(ar1, ar2)\n",
    "mdot = np.dot(ar1, ar2)\n",
    "\n",
    "assert np.all(res12 == t_dot)\n",
    "assert np.all(res12 == matmul)\n",
    "assert np.all(res12 == mdot)\n",
    "\n",
    "ar_l = np.array((ar1, ar1, ar2))\n",
    "ar_r = np.array((ar2, ar1, ar2))\n",
    "\n",
    "t_dot = np.matmul(ar_l, ar_r)\n",
    "print(t_dot.shape)\n",
    "\n"
   ]
  },
  {
   "cell_type": "code",
   "execution_count": null,
   "id": "36fceecb",
   "metadata": {},
   "outputs": [],
   "source": []
  }
 ],
 "metadata": {
  "kernelspec": {
   "display_name": "Python 3 (ipykernel)",
   "language": "python",
   "name": "python3"
  },
  "language_info": {
   "codemirror_mode": {
    "name": "ipython",
    "version": 3
   },
   "file_extension": ".py",
   "mimetype": "text/x-python",
   "name": "python",
   "nbconvert_exporter": "python",
   "pygments_lexer": "ipython3",
   "version": "3.9.0"
  }
 },
 "nbformat": 4,
 "nbformat_minor": 5
}
