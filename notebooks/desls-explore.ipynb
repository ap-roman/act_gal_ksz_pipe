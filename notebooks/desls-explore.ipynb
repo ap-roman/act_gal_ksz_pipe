{
 "cells": [
  {
   "cell_type": "code",
   "execution_count": 10,
   "id": "3221883f",
   "metadata": {},
   "outputs": [
    {
     "name": "stdout",
     "output_type": "stream",
     "text": [
      "car:{cdelt:[-0.008333,0.008333],crval:[0,0],crpix:[21601.00,7561.00]}\n",
      "<KeysViewHDF5 ['dec_deg', 'maskbits', 'nobs_g', 'nobs_r', 'nobs_z', 'ra_deg']>\n",
      "8\n"
     ]
    }
   ],
   "source": [
    "from astropy.io import fits\n",
    "import h5py\n",
    "from pixell import enmap\n",
    "\n",
    "\n",
    "data_path = '/home/aroman/data/'\n",
    "\n",
    "act_path = data_path + 'act/'\n",
    "map_path = act_path + 'act_planck_s08_s19_cmb_f150_daynight_srcfree_map.fits' # private, reference map\n",
    "\n",
    "data_base = '/home/aroman/data/vr_source/desi_ls/'\n",
    "\n",
    "cat_base = 'desils_randcat_'\n",
    "cat_north_path = data_base + cat_base + 'north.h5'\n",
    "cat_south_path = data_base + cat_base + 'south.h5'\n",
    "\n",
    "map_t = enmap.read_map(map_path)[0]\n",
    "print(map_t.wcs)\n",
    "\n",
    "with h5py.File(cat_north_path, 'r') as cat_north:\n",
    "    print(cat_north.keys())\n",
    "    decs = cat_north['dec_deg']\n",
    "    ras = cat_north['dec_deg']\n",
    "    print(decs.dtype.itemsize)\n",
    "\n",
    "\n",
    "# v01 = ['north_cmass']\n",
    "# v01 = [data_base + 'v01_desils_' + fname for fname in v01]\n",
    "\n",
    "\n"
   ]
  },
  {
   "cell_type": "code",
   "execution_count": null,
   "id": "09529e18",
   "metadata": {},
   "outputs": [],
   "source": []
  }
 ],
 "metadata": {
  "kernelspec": {
   "display_name": "Python 3 (ipykernel)",
   "language": "python",
   "name": "python3"
  },
  "language_info": {
   "codemirror_mode": {
    "name": "ipython",
    "version": 3
   },
   "file_extension": ".py",
   "mimetype": "text/x-python",
   "name": "python",
   "nbconvert_exporter": "python",
   "pygments_lexer": "ipython3",
   "version": "3.9.0"
  }
 },
 "nbformat": 4,
 "nbformat_minor": 5
}
