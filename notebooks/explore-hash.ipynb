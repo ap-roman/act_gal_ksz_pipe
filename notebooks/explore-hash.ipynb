{
 "cells": [
  {
   "cell_type": "code",
   "execution_count": 1,
   "id": "ea517d1e",
   "metadata": {},
   "outputs": [],
   "source": [
    "import hashlib\n",
    "\n",
    "from pixell import enmap\n",
    "\n",
    "data_path = '/home/aroman/data/'\n",
    "planck_path = data_path + 'planck/'\n",
    "mask_path = data_path + 'mask/'\n",
    "pipe_path = data_path + 'pipe/'\n",
    "\n",
    "# act_path = data_path + 'act/'\n",
    "# map_path = act_path + 'act_planck_s08_s19_cmb_f150_daynight_srcfree_map.fits' # private\n",
    "# ivar_path = act_path + 'act_planck_s08_s19_cmb_f150_daynight_srcfree_ivar.fits' # private\n",
    "# beam_path = act_path + 'beam_f150_daynight.txt' # proprietary beam file\n",
    "# # nl_path = f'data/nl_desils_{NTRIAL_NL}.npy'\n",
    "# # fl_path = f'data/fl_desils_nfl_{NTRIAL_FL}_nave_{NAVE_FL}_niter_{NITER_FL}.npy'\n",
    "# nl_path = f'data/nl_{NTRIAL_NL}.npy'\n",
    "# fl_path = f'data/fl_nfl_{NTRIAL_FL}_nave_{NAVE_FL}_niter_{NITER_FL}.npy'\n",
    "\n",
    "\n",
    "act_path = data_path + 'act_pub/'\n",
    "map_path = act_path + 'act_planck_dr5.01_s08s18_AA_f150_daynight_map_srcfree.fits' # public\n",
    "ivar_path = act_path + 'act_planck_dr5.01_s08s18_AA_f150_daynight_ivar.fits' # public\n",
    "beam_path = act_path + 'act_planck_dr5.01_s08s18_f150_daynight_beam.txt' # public beam\n",
    "# nl_path = f'data/nl_desils_pub_{NTRIAL_NL}.npy'\n",
    "# fl_path = f'data/fl_desils_pub_nfl_{NTRIAL_FL}_nave_{NAVE_FL}_niter_{NITER_FL}.npy'\n",
    "\n",
    "\n",
    "gal_mask_path = data_path + 'sdss_footprint/pixellized_sdss_north_completeness.fits'\n",
    "\n",
    "\n",
    "# gal_mask_path = data_path + 'sdss_footprint/pixellized_sdss_north_completeness.fits'\n",
    "# gal_mask_path = data_path + 'vr_source/desi_ls/intersect_sdss_desi_mask.h5'\n",
    "desils_v3_north = data_path + 'vr_source/desils/v03_desils_north_cmass.h5'\n",
    "desils_v3_south = data_path + 'vr_source/desils/v03_desils_south_cmass.h5'\n",
    "\n",
    "mc_list_out = '/data/aroman/tmp/test_mc.h5'\n",
    "\n",
    "planck_mask_inpath = planck_path + 'HFI_Mask_GalPlane-apo0_2048_R2.00.fits'\n",
    "planck_enmap_path = mask_path + 'planck_foreground.npy'\n",
    "\n",
    "\n",
    "zerr_max = 0.05\n",
    "vr_width = '1.0'\n",
    "\n",
    "map_t = enmap.read_map(map_path)[0]\n",
    "enmap.write_map('tmp/blahblah1.fits', map_t)\n",
    "enmap.write_map('tmp/blahblah2.h5', map_t)\n",
    "\n",
    "map_fits = enmap.read_map('tmp/blahblah1.fits')\n",
    "map_h5 = enmap.read_map('tmp/blahblah2.h5')\n",
    "map_mod = map_t.copy()\n",
    "\n",
    "def get_hash(map_t):\n",
    "    m = hashlib.sha256()\n",
    "    m.update(map_t)\n",
    "    return m.hexdigest()"
   ]
  },
  {
   "cell_type": "code",
   "execution_count": 3,
   "id": "2e58d44c",
   "metadata": {},
   "outputs": [
    {
     "name": "stdout",
     "output_type": "stream",
     "text": [
      "829c5c2913274d03c12b9220d3757eae52ebff8f02ff7ea1a66d858060573264\n",
      "829c5c2913274d03c12b9220d3757eae52ebff8f02ff7ea1a66d858060573264\n",
      "829c5c2913274d03c12b9220d3757eae52ebff8f02ff7ea1a66d858060573264\n",
      "829c5c2913274d03c12b9220d3757eae52ebff8f02ff7ea1a66d858060573264\n",
      "ff2e39768feb933a21a84e576788cc10be77cc2eec77e2c3d109dfec35854016\n"
     ]
    }
   ],
   "source": [
    "print(get_hash(map_t))\n",
    "print(get_hash(map_fits))\n",
    "print(get_hash(map_h5))\n",
    "print(get_hash(map_mod))\n",
    "map_mod[0,0] = 1231543634.\n",
    "print(get_hash(map_mod))"
   ]
  },
  {
   "cell_type": "code",
   "execution_count": null,
   "id": "06baa9e1",
   "metadata": {},
   "outputs": [],
   "source": []
  }
 ],
 "metadata": {
  "kernelspec": {
   "display_name": "Python 3 (ipykernel)",
   "language": "python",
   "name": "python3"
  },
  "language_info": {
   "codemirror_mode": {
    "name": "ipython",
    "version": 3
   },
   "file_extension": ".py",
   "mimetype": "text/x-python",
   "name": "python",
   "nbconvert_exporter": "python",
   "pygments_lexer": "ipython3",
   "version": "3.9.0"
  }
 },
 "nbformat": 4,
 "nbformat_minor": 5
}
