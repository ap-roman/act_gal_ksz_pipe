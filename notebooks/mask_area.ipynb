{
 "cells": [
  {
   "cell_type": "code",
   "execution_count": 1,
   "id": "1b6748a5",
   "metadata": {},
   "outputs": [
    {
     "name": "stderr",
     "output_type": "stream",
     "text": [
      "Invalid MIT-MAGIC-COOKIE-1 key\n",
      "Authorization required, but no authorization protocol specified\n",
      "\n",
      "Invalid MIT-MAGIC-COOKIE-1 key\n",
      "Authorization required, but no authorization protocol specified\n",
      "\n",
      "Invalid MIT-MAGIC-COOKIE-1 keyAuthorization required, but no authorization protocol specified\n"
     ]
    }
   ],
   "source": [
    "import numpy as np\n",
    "\n",
    "from pixell import enmap, enplot\n",
    "from pixell.curvedsky import alm2cl, map2alm, alm2map, rand_map\n",
    "from pixell.enmap import downgrade, upgrade\n",
    "\n",
    "import matplotlib.pyplot as plt\n",
    "\n",
    "from astropy.io import fits\n",
    "\n",
    "data_base = '/home/aroman/data/'\n",
    "data_dir = '/home/aroman/data/act_pub/'\n",
    "cat_dir = data_dir + 'sz_cluster_hilton/'\n",
    "tsz_cat_path = cat_dir + 'DR5_cluster-catalog_v1.1.fits'\n",
    "tsz_cat_mask_path = cat_dir + 'DR5_cluster-search-area-mask_v1.0.fits'\n",
    "map_ref_path = data_dir + 'act_planck_dr5.01_s08s18_AA_f090_daynight_map_srcfree.fits'\n",
    "map_150_path = data_dir + 'act_planck_dr5.01_s08s18_AA_f150_daynight_map_srcfree.fits'\n",
    "gal_mask_path = \n",
    "planck_mask_path = data_base + 'mask/planck_foreground_mask_GAL080.npy'\n",
    "\n",
    "kpath = '/home/aroman/data/kendrick/01_act_ps_model_inputs/'\n",
    "\n",
    "cl_camb = np.load(kpath + 'cl_camb.npy')\n",
    "\n",
    "AM2RAD = 2.90888e-4\n",
    "lmax = 10000\n",
    "\n",
    "tsz_mask_sidelength_arcmin = 4.4 # arcmin\n",
    "\n",
    "w_090_path = kpath + 'wfkp_90.fits'\n",
    "w_150_path = kpath + 'wfkp_150.fits'\n",
    "\n",
    "cat_mask = enmap.read_map(tsz_cat_mask_path, hdu=1)\n",
    "\n",
    "# TSZ CLUSTER CAT DOWNGRADE\n",
    "cat_mask_d40 = upgrade(downgrade(cat_mask, 40), 40)\n",
    "cat_mask_d20 = upgrade(downgrade(cat_mask, 20), 20)\n",
    "\n",
    "map_ref = enmap.read_map(map_ref_path)[0]\n",
    "map_150 = enmap.read_map(map_150_path)[0]\n",
    "w_090 = enmap.read_map(w_090_path)\n",
    "w_150 = enmap.read_map(w_150_path)\n",
    "\n",
    "sdss_north_mask = enmap.read_map(data_base + 'sdss_footprint/pixellized_sdss_north_completeness.fits')\n",
    "sdss_south_mask = enmap.read_map(data_base + 'sdss_footprint/pixellized_sdss_south_completeness.fits')\n",
    "desils_path\n",
    "\n",
    "# effective intersected mask\n",
    "gal_mask\n",
    "\n",
    "planck_mask = enmap.read_map(planck_mask_path)\n"
   ]
  },
  {
   "cell_type": "code",
   "execution_count": 12,
   "id": "0caaaec2",
   "metadata": {},
   "outputs": [],
   "source": [
    "from fnl_pipe.tsz import make_tsz_mask\n",
    "\n",
    "tsz_area_mask = cat_mask_d40\n",
    "tsz_mask, catalog = make_tsz_mask(tsz_cat_path, map_ref, tsz_mask_sidelength_arcmin)\n",
    "\n",
    "tsz_combined_mask = tsz_area_mask * tsz_mask"
   ]
  },
  {
   "cell_type": "code",
   "execution_count": 15,
   "id": "d04a0362",
   "metadata": {},
   "outputs": [
    {
     "name": "stdout",
     "output_type": "stream",
     "text": [
      "computing pixel size map\n",
      "13211.375733189885\n",
      "13191.826365642193\n"
     ]
    }
   ],
   "source": [
    "\n",
    "print('computing pixel size map')\n",
    "print((tsz_area_mask * tsz_area_mask.pixsizemap()).sum() * (180. / np.pi)**2)\n",
    "print((tsz_combined_mask * tsz_combined_mask.pixsizemap()).sum() * (180. / np.pi)**2)\n"
   ]
  },
  {
   "cell_type": "code",
   "execution_count": null,
   "id": "bed35155",
   "metadata": {},
   "outputs": [],
   "source": []
  }
 ],
 "metadata": {
  "kernelspec": {
   "display_name": "Python 3 (ipykernel)",
   "language": "python",
   "name": "python3"
  },
  "language_info": {
   "codemirror_mode": {
    "name": "ipython",
    "version": 3
   },
   "file_extension": ".py",
   "mimetype": "text/x-python",
   "name": "python",
   "nbconvert_exporter": "python",
   "pygments_lexer": "ipython3",
   "version": "3.9.0"
  }
 },
 "nbformat": 4,
 "nbformat_minor": 5
}
