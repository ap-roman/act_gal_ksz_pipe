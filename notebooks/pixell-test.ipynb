{
 "cells": [
  {
   "cell_type": "code",
   "execution_count": null,
   "id": "7037fc7a",
   "metadata": {},
   "outputs": [],
   "source": [
    "import matplotlib.pyplot as plt\n",
    "import numpy as np\n",
    "\n",
    "from pixell import enmap\n",
    "from pixell.curvedsky import map2alm, alm2cl, alm2map, rand_alm, rand_map, almxfl\n",
    "\n",
    "import time\n",
    "\n",
    "LMAX=12000\n",
    "R_LWIDTH=0.62\n",
    "NTRIAL_NL = 1\n",
    "NTRIAL_FL = 1\n",
    "NITER_FL = 20\n",
    "\n",
    "data_path = '/home/aroman/data/'\n",
    "planck_path = data_path + 'planck/'\n",
    "mask_path = data_path + 'mask/'\n",
    "\n",
    "act_path = data_path + 'act/'\n",
    "map_path = act_path + 'act_planck_s08_s19_cmb_f150_daynight_srcfree_map.fits'\n",
    "ivar_path = act_path + 'act_planck_s08_s19_cmb_f150_daynight_srcfree_ivar.fits'\n",
    "beam_path = act_path + 'beam_f150_daynight.txt'\n",
    "\n",
    "def map2cl(map_t, lmax=LMAX):\n",
    "    return alm2cl(map2alm(map_t, lmax=lmax))\n",
    "\n",
    "ells = np.arange(LMAX + 1)\n",
    "iells = ells.copy()\n",
    "iells[0] = 1.\n",
    "iells = 1./iells\n",
    "iells[0] = 0.\n",
    "\n",
    "ps = iells**2\n",
    "\n"
   ]
  }
 ],
 "metadata": {
  "kernelspec": {
   "display_name": "Python 3 (ipykernel)",
   "language": "python",
   "name": "python3"
  },
  "language_info": {
   "codemirror_mode": {
    "name": "ipython",
    "version": 3
   },
   "file_extension": ".py",
   "mimetype": "text/x-python",
   "name": "python",
   "nbconvert_exporter": "python",
   "pygments_lexer": "ipython3",
   "version": "3.9.0"
  }
 },
 "nbformat": 4,
 "nbformat_minor": 5
}
